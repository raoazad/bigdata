{
 "cells": [
  {
   "cell_type": "markdown",
   "id": "7da6bdd6",
   "metadata": {},
   "source": [
    "Q1. How do you load a CSV file into a Pandas DataFrame?\n",
    "\n",
    "    We can load csv file in data frame by using pd.read_csv function\n",
    "    example-pd.read_csv(\"data link\")\n",
    "\n",
    "\n",
    "\n"
   ]
  },
  {
   "cell_type": "markdown",
   "id": "52f3e003",
   "metadata": {},
   "source": [
    "Q2. How do you check the data type of a column in a Pandas DataFrame?\n",
    "    \n",
    "    To check the data type of column we use dataframe.dtype['columnname'].\n",
    "    \n",
    "    \n",
    "\n"
   ]
  },
  {
   "cell_type": "markdown",
   "id": "eedd8d14",
   "metadata": {},
   "source": [
    "Q3. How do you select rows from a Pandas DataFrame based on a condition?\n",
    "    \n",
    "    To select rows from a pandas data frame we use df[df[\"column name' condition]]\n",
    "\n"
   ]
  },
  {
   "cell_type": "markdown",
   "id": "856071cc",
   "metadata": {},
   "source": [
    "Q4. How do you rename columns in a Pandas DataFrame?\n",
    "\n",
    "    to rename columns we can use the DataFrame.rename() method\n",
    "\n"
   ]
  },
  {
   "cell_type": "markdown",
   "id": "1ae44cad",
   "metadata": {},
   "source": [
    "Q5. How do you drop columns in a Pandas DataFrame?\n",
    "\n",
    "\n",
    "    To drop columns in a Pandas data frame, you can use the DataFrame.drop() method\n",
    "    example dataframe.drop(\"column name\",axis=1)"
   ]
  },
  {
   "cell_type": "markdown",
   "id": "a3ff0f36",
   "metadata": {},
   "source": [
    "Q6. How do you find the unique values in a column of a Pandas DataFrame?\n",
    "\n",
    "    To find the unique values in a column of a Pandas data frame, you can use the .unique() method.\n",
    "\n"
   ]
  },
  {
   "cell_type": "markdown",
   "id": "f930edb4",
   "metadata": {},
   "source": [
    "Q7. How do you find the number of missing values in each column of a Pandas DataFrame?\n",
    "    \n",
    "    To find the number of missing values in each by 'is.null().sum()' method it will return the total no. of null values in each column\n",
    "    \n",
    "\n"
   ]
  },
  {
   "cell_type": "markdown",
   "id": "494e5563",
   "metadata": {},
   "source": [
    "Q8. How do you fill missing values in a Pandas DataFrame with a specific value?\n",
    "\n",
    "    To fill missing values in a Pandas data frame with a specific value, you can use the DataFrame.fillna(\"value\") method.\n",
    "\n",
    "\n",
    "\n"
   ]
  },
  {
   "cell_type": "markdown",
   "id": "880f6180",
   "metadata": {},
   "source": [
    "Q9. How do you concatenate two Pandas DataFrames?\n",
    "\n",
    "    to concatenate two Pandas data frames, you can use the pandas.concat() function\n",
    "\n"
   ]
  },
  {
   "cell_type": "markdown",
   "id": "884a3898",
   "metadata": {},
   "source": [
    "Q10. How do you merge two Pandas DataFrames on a specific column?\n",
    "\n",
    "    To merge two Pandas data frames on a specific column, you can use the DataFrame.merge() method.\n",
    "    example-\n",
    "    df = df1.merge(df2, on=\"column_name\")\n",
    "\n",
    "\n",
    "\n",
    "\n"
   ]
  },
  {
   "cell_type": "markdown",
   "id": "092a6e22",
   "metadata": {},
   "source": [
    "Q11. How do you group data in a Pandas DataFrame by a specific column and apply an aggregation function?\n",
    "\n",
    "    To group data in a Pandas data frame by a specific column and apply an aggregation function, you can use the DataFrame.groupby() and DataFrame.agg() methods"
   ]
  },
  {
   "cell_type": "markdown",
   "id": "ee4d6fc6",
   "metadata": {},
   "source": [
    "Q12. How do you pivot a Pandas DataFrame?\n",
    "\n",
    "        To pivot a Pandas data frame, you can use the DataFrame.pivot() method.\n",
    "        Example-\n",
    "        df_pivoted = df.pivot(index=\"column1\", columns=\"column2\")\n"
   ]
  },
  {
   "cell_type": "markdown",
   "id": "0210635a",
   "metadata": {},
   "source": [
    "Q13. How do you change the data type of a column in a Pandas DataFrame?\n",
    "\n",
    "    To change the data type of a column in a Pandas data frame, you can use the DataFrame.astype() method.\n",
    "    example- df[\"column_name\"].astype(\"type\")\n",
    "    "
   ]
  },
  {
   "cell_type": "markdown",
   "id": "dbb38cf0",
   "metadata": {},
   "source": [
    "Q14. How do you sort a Pandas DataFrame by a specific column?\n",
    "\n",
    "    To sort a Pandas DataFrame by a specific column, you can use the DataFrame.sort_values() method. This method takes in the column name as a parameter and sorts the DataFrame based on the values in the specified column.\n",
    "\n"
   ]
  },
  {
   "cell_type": "markdown",
   "id": "a7821c67",
   "metadata": {},
   "source": [
    "Q15. How do you create a copy of a Pandas DataFrame?\n",
    "\n",
    "    To create a copy of a Pandas DataFrame, you can use the DataFrame.copy() method."
   ]
  },
  {
   "cell_type": "markdown",
   "id": "0cda44d0",
   "metadata": {},
   "source": [
    "Q16. How do you filter rows of a Pandas DataFrame by multiple conditions?\n",
    "    \n",
    "    you can use the DataFrame.loc[] method to select only the rows that satisfy the conditions.\n",
    "     df.loc[(df['column name'] condition) & (df['column name'] condition)]\n"
   ]
  },
  {
   "cell_type": "markdown",
   "id": "e31f4d4c",
   "metadata": {},
   "source": [
    "Q17. How do you calculate the mean of a column in a Pandas DataFrame?\n",
    "      \n",
    "      To calculate the mean of a column in a Pandas DataFrame, you can use the DataFrame.mean() method.\n",
    "\n",
    "\n"
   ]
  },
  {
   "cell_type": "markdown",
   "id": "65d33c58",
   "metadata": {},
   "source": [
    "Q18. How do you calculate the standard deviation of a column in a Pandas DataFrame?\n",
    "\n",
    "    To calculate the standard deviation of a column in a Pandas DataFrame, you can use the DataFrame.std() method."
   ]
  },
  {
   "cell_type": "markdown",
   "id": "95b12ac9",
   "metadata": {},
   "source": [
    "Q19. How do you calculate the correlation between two columns in a Pandas DataFrame?\n",
    "    \n",
    "    To calculate the correlation between two columns in a Pandas DataFrame, you can use the .corr() method.\n",
    "\n"
   ]
  },
  {
   "cell_type": "markdown",
   "id": "e285797b",
   "metadata": {},
   "source": [
    "Q20. How do you select specific columns in a DataFrame using their labels?\n",
    "\n",
    "    To select specific columns in a Pandas DataFrame using their labels, you can use the DataFrame.loc[] method\n",
    "    example-\n",
    "    columns = ['column name 1', 'column name 2']\n",
    "    df.loc[:, columns]"
   ]
  },
  {
   "cell_type": "markdown",
   "id": "3abdb34c",
   "metadata": {},
   "source": [
    "Q21. How do you select specific rows in a DataFrame using their indexes?\n",
    "\n",
    "    \n",
    "    To select specific rows in a Pandas DataFrame using their labels, you can use the DataFrame.loc[] method\n",
    "    example-\n",
    "    rows=[1,2]\n",
    "    df.loc[rows]"
   ]
  },
  {
   "cell_type": "markdown",
   "id": "d4c2e12e",
   "metadata": {},
   "source": [
    "Q22. How do you sort a DataFrame by a specific column?\n",
    "    \n",
    "    To sort a Pandas DataFrame by a specific column, you can use the DataFrame.sort_values() method. This method takes in the column name as a parameter and sorts the DataFrame based on the values in the specified column.\n",
    "\n",
    "\n"
   ]
  },
  {
   "cell_type": "markdown",
   "id": "66ad54f8",
   "metadata": {},
   "source": [
    "Q23. How do you create a new column in a DataFrame based on the values of another column?\n",
    "\n",
    "    To create a new column in a Pandas DataFrame based on the values of another column, you can use the DataFrame.assign() method"
   ]
  },
  {
   "cell_type": "markdown",
   "id": "bb1e367e",
   "metadata": {},
   "source": [
    "Q24. How do you remove duplicates from a DataFrame?\n",
    "    \n",
    "    To remove duplicates from a Pandas DataFrame, you can use the DataFrame.drop_duplicates() method.\n"
   ]
  },
  {
   "cell_type": "markdown",
   "id": "866a8804",
   "metadata": {},
   "source": [
    "Q25. What is the difference between .loc and .iloc in Pandas?\n",
    "     \n",
    "     The .loc and .iloc indexers in Pandas are used to access rows and columns in a DataFrame. The main difference between these two indexers is that .loc uses labels, while .iloc uses integer indexes.\n"
   ]
  }
 ],
 "metadata": {
  "kernelspec": {
   "display_name": "Python 3 (ipykernel)",
   "language": "python",
   "name": "python3"
  },
  "language_info": {
   "codemirror_mode": {
    "name": "ipython",
    "version": 3
   },
   "file_extension": ".py",
   "mimetype": "text/x-python",
   "name": "python",
   "nbconvert_exporter": "python",
   "pygments_lexer": "ipython3",
   "version": "3.9.12"
  }
 },
 "nbformat": 4,
 "nbformat_minor": 5
}

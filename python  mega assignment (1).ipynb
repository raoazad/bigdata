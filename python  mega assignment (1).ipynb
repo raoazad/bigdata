{
 "cells": [
  {
   "cell_type": "markdown",
   "id": "35f17497",
   "metadata": {},
   "source": [
    "Q1. Why do we call Python as a general purpose and high-level programming language?\n",
    "\n",
    "            Python is called as a general purpose lanugage beacuse it can used as varierty of applications like data engineering,data science, machine learning,software devlopment,data analysis and in artifical intelligence.\n",
    "    Python is called high level language because it easy to read and understand and python coding syntax is designed easy  to  read  and understand."
   ]
  },
  {
   "cell_type": "markdown",
   "id": "9a2a0d38",
   "metadata": {},
   "source": [
    "Q2. Why is Python called a dynamically typed language?\n",
    "    \n",
    "    Python is dynamically typed language in which variable can changed during run time without re-declaration of the variable. \n",
    "       "
   ]
  },
  {
   "cell_type": "markdown",
   "id": "6f3aaf00",
   "metadata": {},
   "source": [
    "Q3. List some pros and cons of Python programming language?\n",
    "    \n",
    "    Pros-\n",
    "    -Easy to read,learn and write.\n",
    "    -Vast Libraries Support.\n",
    "    -Supports multiple systems and platforms.\n",
    "    -Dynamic typing programming.\n",
    "    Cons-\n",
    "    -has speed limitations.\n",
    "    -can have runtime errors.\n",
    "    -consumes a lot of memory space.\n",
    "\n",
    "\n",
    "\n",
    "\n",
    "\n",
    "\n",
    "\n",
    "\n"
   ]
  },
  {
   "cell_type": "markdown",
   "id": "f912de1e",
   "metadata": {},
   "source": [
    "Q4. In what all domains can we use Python?\n",
    "   \n",
    "    Python is used in many domains like data science, data engineering, artifical intelligence,machine learning,\n",
    "    software development.\n"
   ]
  },
  {
   "cell_type": "markdown",
   "id": "8da0931d",
   "metadata": {},
   "source": [
    "Q5. What are variable and how can we declare them?\n",
    "    \n",
    "    Variable are name given to memory location and contain data\n",
    "    we can declare by just assigning them value."
   ]
  },
  {
   "cell_type": "markdown",
   "id": "1296c410",
   "metadata": {},
   "source": [
    "Q6. How can we take an input from the user in Python?\n",
    "   \n",
    "    We can take input from user by input() function.\n",
    "    example-\n",
    "    x=input(\"enter your name\")"
   ]
  },
  {
   "cell_type": "markdown",
   "id": "02fcf531",
   "metadata": {},
   "source": [
    "Q7. What is the default datatype of the value that has been taken as an input using input() function?\n",
    "    \n",
    "    String is the default datatype of value taken by input() function.\n"
   ]
  },
  {
   "cell_type": "markdown",
   "id": "1fc1d59f",
   "metadata": {},
   "source": [
    "Q8. What is type casting?\n",
    "    \n",
    "    Type casting is the converting one datatype into another datatype.\n"
   ]
  },
  {
   "cell_type": "markdown",
   "id": "e25affa6",
   "metadata": {},
   "source": [
    "Q9. Can we take more than one input from the user using single input() function? If yes, how? If no, why\n",
    "    \n",
    "    We can take multiples input from using by single input function but we have to add .split() function after input()function.\n",
    "    it will create in inputs in a list.\n",
    "    \n",
    "    example-\n",
    "           a,b,c=input(\"enter values\").split()\n",
    "    \n"
   ]
  },
  {
   "cell_type": "markdown",
   "id": "786aece4",
   "metadata": {},
   "source": [
    "Q10. What are keywords?\n",
    "     \n",
    "     Keywords are predefined and reserved words that have a special meaning in lanugage.\n",
    "     Examples- char,float,for print\n",
    "     "
   ]
  },
  {
   "cell_type": "markdown",
   "id": "ffd24764",
   "metadata": {},
   "source": [
    "Q11. Can we use keywords as a variable? Support your answer with reason.\n",
    "     \n",
    "     We can't use keywords as variable beacuse it will be try to redefining the definition of keywords and assingning new meaning to keywords that complier can't understand.\n"
   ]
  },
  {
   "cell_type": "markdown",
   "id": "78c67aca",
   "metadata": {},
   "source": [
    "Q12. What is indentation? What's the use of indentaion in Python?\n",
    "    \n",
    "    Indentatiion is the  spaces before the code line.\n",
    "     Indentation is used to marking the block of code. \n"
   ]
  },
  {
   "cell_type": "markdown",
   "id": "6f83e61a",
   "metadata": {},
   "source": [
    "Q13. How can we throw some output in Python?\n",
    "     \n",
    "     We can throw some output by using print function and it will display the output.\n",
    "     Example-print(\"output\")\n"
   ]
  },
  {
   "cell_type": "markdown",
   "id": "d331ef3a",
   "metadata": {},
   "source": [
    "Q14. What are operators in Python?\n",
    "     \n",
    "     Operators are symbols that perform operation between operands(variables and values)\n",
    "     example = +(add),=(assign value),or(condition between operands)\n"
   ]
  },
  {
   "cell_type": "markdown",
   "id": "388f4750",
   "metadata": {},
   "source": [
    "Q15. What is difference between / and // operators?\n",
    "    \n",
    "    / is division operator means divsion of two operands and result would be in decimals. example= 28/5=5.6\n",
    "     // is floor division operator means divsion of two operands and result will be absolute numbers. 28//5=5\n"
   ]
  },
  {
   "cell_type": "code",
   "execution_count": 1,
   "id": "6942b65c",
   "metadata": {},
   "outputs": [
    {
     "name": "stdout",
     "output_type": "stream",
     "text": [
      "iNeuroniNeuroniNeuroniNeuron\n"
     ]
    }
   ],
   "source": [
    "#Q16. Write a code that gives following as an output.\n",
    "        #iNeuroniNeuroniNeuroniNeuron\n",
    "print(\"iNeuroniNeuroniNeuroniNeuron\")\n"
   ]
  },
  {
   "cell_type": "code",
   "execution_count": 2,
   "id": "96ed353e",
   "metadata": {},
   "outputs": [
    {
     "name": "stdout",
     "output_type": "stream",
     "text": [
      "enter the number  23\n",
      "Num is odd\n"
     ]
    }
   ],
   "source": [
    "#Q17. Write a code to take a number as an input from the user and check if the number is odd or even.\n",
    "\n",
    "num=int(input(\"enter the number  \"))\n",
    "if num%2==0:\n",
    "        print(\"Num is even !!\")\n",
    "else:\n",
    "    \n",
    "    print(\"Num is odd\")    \n"
   ]
  },
  {
   "cell_type": "markdown",
   "id": "4bab3061",
   "metadata": {},
   "source": [
    "Q18. What are boolean operator?\n",
    "     Boolean operators are used in comparisons that returns bool value true and False\n"
   ]
  },
  {
   "cell_type": "code",
   "execution_count": 3,
   "id": "00d9f70a",
   "metadata": {},
   "outputs": [
    {
     "data": {
      "text/plain": [
       "1"
      ]
     },
     "execution_count": 3,
     "metadata": {},
     "output_type": "execute_result"
    }
   ],
   "source": [
    "#Q19. What will the output of the following?\n",
    "1 or 0\n",
    "\n",
    "0 and 0\n",
    "\n",
    "True and False and True\n",
    "\n",
    "1 or 0 or 0"
   ]
  },
  {
   "cell_type": "markdown",
   "id": "cbc3bff0",
   "metadata": {},
   "source": [
    "Q20. What are conditional statements in Python?\n",
    "    Conditional statements perform different computaions depending specific condition and returns Bool values True and False\n",
    "    and perform job\n",
    "    Example- if ,else,elif"
   ]
  },
  {
   "cell_type": "markdown",
   "id": "2285bcbd",
   "metadata": {},
   "source": [
    "Q21. What is use of 'if', 'elif' and 'else' keywords?\n",
    "     These keywords used control the flow of a program allowing you to excute block of data.\n",
    "     'if' keywords is used if the evalutes condition true block of code will excute and  if false then the else block of code will excute. Multiple conditions  check after'if' condtions check and it evalutes true the block of code will excute\n",
    "    \n",
    "     \n"
   ]
  },
  {
   "cell_type": "code",
   "execution_count": 4,
   "id": "aa7d2eb0",
   "metadata": {},
   "outputs": [
    {
     "name": "stdout",
     "output_type": "stream",
     "text": [
      "Enter your age  34\n",
      " I can vote\n"
     ]
    }
   ],
   "source": [
    "#Q22. Write a code to take the age of person as an input and if age >= 18 display \"I can vote\".\n",
    "#If age is < 18 display \"I can't vote\".\n",
    "\n",
    "age=int(input(\"Enter your age  \"))\n",
    "if age>=18:\n",
    "    print(\" I can vote\")\n",
    "else:\n",
    "    print(\"I can't vote\")\n"
   ]
  },
  {
   "cell_type": "code",
   "execution_count": 5,
   "id": "c1ec1ecc",
   "metadata": {},
   "outputs": [
    {
     "name": "stdout",
     "output_type": "stream",
     "text": [
      "392\n"
     ]
    }
   ],
   "source": [
    "#Q23. Write a code that displays the sum of all the even numbers from the given list.\n",
    "numbers = [12, 75, 150, 180, 145, 525, 50]\n",
    "sum=0\n",
    "for i in (numbers):\n",
    "\n",
    "    if i%2==0:\n",
    "        sum=sum+i \n",
    "    else:\n",
    "        continue\n",
    "print(sum)"
   ]
  },
  {
   "cell_type": "code",
   "execution_count": 6,
   "id": "081b84fc",
   "metadata": {},
   "outputs": [
    {
     "name": "stdout",
     "output_type": "stream",
     "text": [
      "enter the value 2\n",
      "enter the value 21\n",
      "enter the value 12\n",
      "greatest no 21\n"
     ]
    }
   ],
   "source": [
    "#Q24. Write a code to take 3 numbers as an input from the user and display the greatest no as output.\n",
    "\n",
    "a=int(input(\"enter the value \"))\n",
    "b=int(input(\"enter the value \"))\n",
    "c=int(input(\"enter the value \"))\n",
    "\n",
    "if a>b and a>c:\n",
    "    print(\"greatest no\",a)\n",
    "elif b>c and b>a:\n",
    "     print(\"greatest no\",b)\n",
    "else:\n",
    "     print(\"greatest no\",c)\n"
   ]
  },
  {
   "cell_type": "code",
   "execution_count": 7,
   "id": "ac64110c",
   "metadata": {},
   "outputs": [
    {
     "name": "stdout",
     "output_type": "stream",
     "text": [
      "75\n",
      "150\n",
      "145\n"
     ]
    }
   ],
   "source": [
    "#Q25. Write a program to display only those numbers from a list that satisfy the following conditions\n",
    "\n",
    "#- The number must be divisible by five\n",
    "\n",
    "#- If the number is greater than 150, then skip it and move to the next number\n",
    "\n",
    "#- If the number is greater than 500, then stop the loop\n",
    "\n",
    "numbers = [12,75, 150, 180, 145, 525, 50]\n",
    "\n",
    "for i in numbers:\n",
    "    if i>500:\n",
    "            break\n",
    "    elif i>150:\n",
    "            continue        \n",
    "    elif i%5==0:\n",
    "            print(i)"
   ]
  },
  {
   "cell_type": "markdown",
   "id": "6af87c79",
   "metadata": {},
   "source": [
    "#Q26. What is a string? How can we declare string in Python?\n",
    "     \n",
    "     A string is series of characters. We can declare it by putting the series of characters in single quotes,double quotes or triple quotes and assign to the variable. \n"
   ]
  },
  {
   "cell_type": "markdown",
   "id": "8a397223",
   "metadata": {},
   "source": [
    "Q27. How can we access the string using its index?\n",
    "      \n",
    "      We can acess string  using string indexing in which by string name index postion in square brackets[]\n"
   ]
  },
  {
   "cell_type": "code",
   "execution_count": 8,
   "id": "e682fb00",
   "metadata": {},
   "outputs": [
    {
     "name": "stdout",
     "output_type": "stream",
     "text": [
      "iNeuron\n"
     ]
    }
   ],
   "source": [
    "#Q28. Write a code to get the desired output of the following\n",
    "\n",
    "string = \"Big Data iNeuron\"\n",
    "desired_output = \"iNeuron\"\n",
    "\n",
    "print(string[9:])"
   ]
  },
  {
   "cell_type": "code",
   "execution_count": 9,
   "id": "8ec8c93d",
   "metadata": {},
   "outputs": [
    {
     "data": {
      "text/plain": [
       "'norueNi'"
      ]
     },
     "execution_count": 9,
     "metadata": {},
     "output_type": "execute_result"
    }
   ],
   "source": [
    "#Q29. Write a code to get the desired output of the following\n",
    "\n",
    "string = \"Big Data iNeuron\"\n",
    "desired_output = \"norueNi\"\n",
    "\n",
    "string[15:8:-1]\n"
   ]
  },
  {
   "cell_type": "code",
   "execution_count": 10,
   "id": "576f038d",
   "metadata": {},
   "outputs": [
    {
     "data": {
      "text/plain": [
       "'norueNi ataD giB'"
      ]
     },
     "execution_count": 10,
     "metadata": {},
     "output_type": "execute_result"
    }
   ],
   "source": [
    "#Q30. Resverse the string given in the above question.\n",
    "\n",
    "string = \"Big Data iNeuron\"\n",
    "string[::-1]\n"
   ]
  },
  {
   "cell_type": "markdown",
   "id": "1a5d235c",
   "metadata": {},
   "source": [
    "#Q31. How can you delete entire string at once?\n",
    "\n",
    "    We can delete entire string by using del command with string variable name."
   ]
  },
  {
   "cell_type": "markdown",
   "id": "0e8f70ac",
   "metadata": {},
   "source": [
    "Q32. What is escape sequence?\n",
    "     \n",
    "     Escape sequence is sequence of character when used inside a string  and in have special meaning.\n",
    "     Example- /t  , /n\n"
   ]
  },
  {
   "cell_type": "markdown",
   "id": "5d18086a",
   "metadata": {},
   "source": [
    "Q33. How can you print the below string?\n",
    "      'iNeuron's Big Data Course'\n",
    "      \n",
    "      We can print this string using print function and string in double quotes.\n",
    "      Example-print(\" 'iNeuron's Big Data Course' \")\n",
    "\n",
    "\n"
   ]
  },
  {
   "cell_type": "markdown",
   "id": "67e2a353",
   "metadata": {},
   "source": [
    "Q34. What is a list in Python?\n",
    "\n",
    "         List are data structures in python that stores heterogenous kind of data and sequential data and stored in contiguous  \n",
    "         location and list are mutable.list are  defined in [].\n",
    "         example-ls=[1,4,asd]"
   ]
  },
  {
   "cell_type": "markdown",
   "id": "46118bc3",
   "metadata": {},
   "source": [
    "Q35. How can you create a list in Python?\n",
    "     \n",
    "     Lists are created by placing the elements in square brackets seprated  by commas and assign the nname.\n",
    "     lst=[2,e,ert,888]\n",
    " "
   ]
  },
  {
   "cell_type": "markdown",
   "id": "d4aefb48",
   "metadata": {},
   "source": [
    "Q36. How can we access the elements in a list?\n",
    "\n",
    "     We can acess the elements in a list by index slicing using square brackets [] along index position to access elements."
   ]
  },
  {
   "cell_type": "code",
   "execution_count": 11,
   "id": "ad916171",
   "metadata": {},
   "outputs": [
    {
     "name": "stdout",
     "output_type": "stream",
     "text": [
      "iNeuron\n"
     ]
    }
   ],
   "source": [
    "#Q37. Write a code to access the word \"iNeuron\" from the given list.\n",
    "\n",
    "lst = [1,2,3,\"Hi\",[45,54, \"iNeuron\"], \"Big Data\"]\n",
    "print(lst[4][2])"
   ]
  },
  {
   "cell_type": "code",
   "execution_count": 12,
   "id": "a7870590",
   "metadata": {},
   "outputs": [
    {
     "name": "stdout",
     "output_type": "stream",
     "text": [
      "12 231asad as\n",
      "3\n"
     ]
    }
   ],
   "source": [
    "#Q38. Take a list as an input from the user and find the length of the list.\n",
    "\n",
    "lst3 = [x for x in input().split()]\n",
    "print(len(lst3))"
   ]
  },
  {
   "cell_type": "code",
   "execution_count": 44,
   "id": "4975512f",
   "metadata": {},
   "outputs": [
    {
     "name": "stdout",
     "output_type": "stream",
     "text": [
      "['Welcome', 'to', 'Data', 'Big', 'course']\n"
     ]
    }
   ],
   "source": [
    "#Q39. Add the word \"Big\" in the 3rd index of the given list.\n",
    "    \n",
    "lst = [\"Welcome\", \"to\", \"Data\", \"course\"]\n",
    "lst.insert(3,'Big')\n",
    "print(lst)"
   ]
  },
  {
   "cell_type": "markdown",
   "id": "a9078907",
   "metadata": {},
   "source": [
    "#Q40. What is a tuple? How is it different from list?\n",
    "    \n",
    "    Tuples are bulit in data structures that stores heterogenous type of data and seprated by commas in () paranthesis.it supports indexing and nested objects .\n",
    "    It is diiferent from list as list are mutuable means changeable but tuple is immutable  means which cannot be change. list are time consuming but tuples are less time consuming. \n",
    " "
   ]
  },
  {
   "cell_type": "markdown",
   "id": "3decc4b9",
   "metadata": {},
   "source": [
    "Q41. How can you create a tuple in Python?\n",
    "    \n",
    "    Tuple is created by putting elements in paranthesis () separated  by commas.\n",
    "    example-(12,23,asdd)"
   ]
  },
  {
   "cell_type": "markdown",
   "id": "5c64f2aa",
   "metadata": {},
   "source": [
    "#Q42. Create a tuple and try to add your name in the tuple. Are you able to do it? Support your answer with reason.\n",
    "name=()\n",
    "name.append('azad')\n",
    "    \n",
    "We can't add able to do it because tuple are immutable.\n"
   ]
  },
  {
   "cell_type": "code",
   "execution_count": 15,
   "id": "80d070ca",
   "metadata": {},
   "outputs": [
    {
     "name": "stdout",
     "output_type": "stream",
     "text": [
      "(1, 23, 'a', 'z', 'x', 56)\n"
     ]
    }
   ],
   "source": [
    "#Q43. Can two tuple be appended. If yes, write a code for it. If not, why?\n",
    "\n",
    "#yes we can append two tuple\n",
    "x=(1,23,'a')\n",
    "y=('z','x',56)\n",
    "\n",
    "xy=(x + y)\n",
    "print(xy)"
   ]
  },
  {
   "cell_type": "code",
   "execution_count": 17,
   "id": "6f2a6989",
   "metadata": {},
   "outputs": [
    {
     "name": "stdout",
     "output_type": "stream",
     "text": [
      "enter tuple1 qw a 23 \n",
      "('1', 'qw', 'a', '23')\n",
      "4\n"
     ]
    }
   ],
   "source": [
    "#Q44. Take a tuple as an input and print the count of elements in it.\n",
    "\n",
    "tup = tuple(input(\"enter tuple\").split())\n",
    "print(tup) \n",
    "print(len(tup))\n",
    "\n"
   ]
  },
  {
   "cell_type": "markdown",
   "id": "0a92ef00",
   "metadata": {},
   "source": [
    "Q45. What are sets in Python?\n",
    "     \n",
    "     Sets are unordered collection of data type that is mutable , iterable and has no duplicates items.   \n"
   ]
  },
  {
   "cell_type": "markdown",
   "id": "67d0478e",
   "metadata": {},
   "source": [
    "Q46. How can you create a set?\n",
    "\n",
    "      We can create set by placing alll the elements in inside a curly braces seperated by comma or using built in function set().\n",
    "\n"
   ]
  },
  {
   "cell_type": "code",
   "execution_count": 33,
   "id": "3e2d95e7",
   "metadata": {},
   "outputs": [
    {
     "name": "stdout",
     "output_type": "stream",
     "text": [
      "{1, 'iNeuron'}\n"
     ]
    }
   ],
   "source": [
    "#Q47. Create a set and add \"iNeuron\" in your set.\n",
    "\n",
    "st={1,}\n",
    "st.add('iNeuron')\n",
    "print(st)"
   ]
  },
  {
   "cell_type": "code",
   "execution_count": 50,
   "id": "44a37afd",
   "metadata": {},
   "outputs": [
    {
     "name": "stdout",
     "output_type": "stream",
     "text": [
      "{1, 2, 4, 5, '4', '2', '3'}\n"
     ]
    }
   ],
   "source": [
    "#Q48. Try to add multiple values using add() function.\n",
    "st1={1,2}\n",
    "st1.add(4)\n",
    "st1.add(5)\n",
    "print(st1)\n"
   ]
  },
  {
   "cell_type": "markdown",
   "id": "da72e68c",
   "metadata": {},
   "source": [
    "Q49. How is update() different from add()?\n",
    "\n",
    "    We use update() function to add sequence of multiple values and add() function single value. \n"
   ]
  },
  {
   "cell_type": "markdown",
   "id": "f031c9fa",
   "metadata": {},
   "source": [
    "Q50. What is clear() in sets?\n",
    "    \n",
    "    Clear() removes all the elements.\n"
   ]
  },
  {
   "cell_type": "markdown",
   "id": "a7ecb2da",
   "metadata": {},
   "source": [
    "Q51. What is frozen set?\n",
    "    \n",
    "    Frozen set is the immutable version of set. \n",
    "\n"
   ]
  },
  {
   "cell_type": "markdown",
   "id": "1cea20bc",
   "metadata": {},
   "source": [
    "Q52. How is frozen set different from set?\n",
    "\n",
    "     Frozen set are immutable which  means cannot change but on the other hands set arae mutuable which can changeable. \n",
    "\n"
   ]
  },
  {
   "cell_type": "code",
   "execution_count": 63,
   "id": "4b890329",
   "metadata": {},
   "outputs": [
    {
     "name": "stdout",
     "output_type": "stream",
     "text": [
      "{1, 2, 34, 4, 35, 7, 9, 45, 50, 55, 22, 23}\n"
     ]
    }
   ],
   "source": [
    "#Q53. What is union() in sets? Explain via code.\n",
    "      \n",
    "    #Union() returns a new set with elements from the set all the other set passed as arguments.\n",
    "set1={1,2,7,4,50,55,34,23}  \n",
    "set2={45,4,34,55,35,22,9} \n",
    "\n",
    "print(set1|set2)\n",
    "      \n",
    "\n",
    "\n"
   ]
  },
  {
   "cell_type": "code",
   "execution_count": 64,
   "id": "4ef7197f",
   "metadata": {},
   "outputs": [
    {
     "name": "stdout",
     "output_type": "stream",
     "text": [
      "{34, 4, 55}\n"
     ]
    }
   ],
   "source": [
    "#Q54. What is intersection() in sets? Explain via code.\n",
    "\n",
    "#intersection() returns a new set with elements common to all sets \n",
    "\n",
    "set1={1,2,7,4,50,55,34,23}  \n",
    "set2={45,4,34,55,35,22,9}\n",
    "\n",
    "print(set1&set2)"
   ]
  },
  {
   "cell_type": "markdown",
   "id": "289e0804",
   "metadata": {},
   "source": [
    "Q55. What is dictionary in Python?\n",
    "\n",
    "    Dictionary is built in data structure which hold elements as key value pairs and have unordered collection of data and changable\n",
    "\n",
    "\n"
   ]
  },
  {
   "cell_type": "markdown",
   "id": "a5db972e",
   "metadata": {},
   "source": [
    "Q56. How is dictionary different from all other data structures.\n",
    "\n",
    "    dictionary has a key value pairs and acts like map data structure it useful to store data of employee.\n",
    "\n"
   ]
  },
  {
   "cell_type": "markdown",
   "id": "1d87b733",
   "metadata": {},
   "source": [
    "Q57. How can we delare a dictionary in Python?\n",
    "\n",
    "\n",
    "    dictonary is declared as by enclosing comma seprated key value pairs in curly braces or bulit in functio dict{}\n",
    "    example-{'name':'azad','age':21)"
   ]
  },
  {
   "cell_type": "code",
   "execution_count": 65,
   "id": "227fb20d",
   "metadata": {},
   "outputs": [
    {
     "name": "stdout",
     "output_type": "stream",
     "text": [
      "Object `following` not found.\n",
      "<class 'dict'>\n"
     ]
    }
   ],
   "source": [
    "Q58. What will the output of the following?\n",
    "\n",
    "var = {}\n",
    "print(type(var))"
   ]
  },
  {
   "cell_type": "markdown",
   "id": "e6d18101",
   "metadata": {},
   "source": [
    "Q59. How can we add an element in a dictionary?\n",
    "\n",
    "    \n",
    "    We can add element in dictionary by dictionaryname key enclosed in square brackets assign the value enclosed in square brackets.\n",
    "    Example-\n",
    "    dict.['name']=['azad']\n",
    "    "
   ]
  },
  {
   "cell_type": "code",
   "execution_count": 70,
   "id": "97a946de",
   "metadata": {},
   "outputs": [
    {
     "name": "stdout",
     "output_type": "stream",
     "text": [
      "dict_values(['azad', 21])\n"
     ]
    }
   ],
   "source": [
    "#Q60. Create a dictionary and access all the values in that dictionary.\n",
    "\n",
    "\n",
    "dict1={'name':'azad','age':21}\n",
    "print(dict1.values())\n"
   ]
  },
  {
   "cell_type": "code",
   "execution_count": 77,
   "id": "be1ffaf6",
   "metadata": {},
   "outputs": [
    {
     "name": "stdout",
     "output_type": "stream",
     "text": [
      "{'degree': 'btech', 'passing year': 2022}\n"
     ]
    }
   ],
   "source": [
    "#Q61. Create a nested dictionary and access all the element in the inner dictionary.\n",
    "\n",
    "dict2={'name':'azad','age':21,'details':{'degree':'btech','passing year':2022}}\n",
    "print(dict2['details'])\n",
    "\n"
   ]
  },
  {
   "cell_type": "markdown",
   "id": "61907dbf",
   "metadata": {},
   "source": [
    "Q62. What is the use of get() function?\n",
    "    get() function returns the value of the item with the specified key."
   ]
  },
  {
   "cell_type": "markdown",
   "id": "18fa2744",
   "metadata": {},
   "source": [
    "\n",
    "Q63. What is the use of items() function?\n",
    "\n",
    "    items() returns a view object as key value pairs as tuples in list. "
   ]
  },
  {
   "cell_type": "markdown",
   "id": "d3bae1fb",
   "metadata": {},
   "source": [
    "Q64. What is the use of pop() function?\n",
    "\n",
    "\n",
    "    The pop items remove the items at a given index from the list and returns a removed item. \n"
   ]
  },
  {
   "cell_type": "markdown",
   "id": "884128ad",
   "metadata": {},
   "source": [
    "Q65. What is the use of popitems() function?\n",
    "\n",
    "\n",
    "    popitems() returns a last key value pair from dictionary as tuple \n",
    "\n"
   ]
  },
  {
   "cell_type": "markdown",
   "id": "07293b55",
   "metadata": {},
   "source": [
    "Q66. What is the use of keys() function?\n",
    "     \n",
    "     keys() return a view object of keys of dictionary as a list.\n"
   ]
  },
  {
   "cell_type": "markdown",
   "id": "32043578",
   "metadata": {},
   "source": [
    "Q67. What is the use of values() function?\n",
    "\n",
    "    values() return a view object of values of dictionary as a list"
   ]
  },
  {
   "cell_type": "markdown",
   "id": "c4a387f9",
   "metadata": {},
   "source": [
    "Q68. What are loops in Python?\n",
    "\n",
    "    loops are of iteration purpose in values or sequential travesral or executing a block of statements repeatdely until condtion.\n",
    "    \n",
    "\n"
   ]
  },
  {
   "cell_type": "markdown",
   "id": "17b38790",
   "metadata": {},
   "source": [
    "Q69. How many type of loop are there in Python?\n",
    "        \n",
    "    \n",
    "    There are two types of loop is python:\n",
    "    1-for loop\n",
    "    2-while loop\n",
    "    "
   ]
  },
  {
   "cell_type": "markdown",
   "id": "5815877d",
   "metadata": {},
   "source": [
    "Q70. What is the difference between for and while loops?\n",
    "\n",
    "    for loop is used when we know the no. of iteration\n",
    "    and while loop is used we don't know no. of iterations and until the condition is false.\n",
    "\n"
   ]
  },
  {
   "cell_type": "markdown",
   "id": "4881e609",
   "metadata": {},
   "source": [
    "Q71. What is the use of continue statement?\n",
    "\n",
    "    continue statement is used when we just want to skip the code of the loop for current iteration only.\n",
    "\n"
   ]
  },
  {
   "cell_type": "markdown",
   "id": "1161b797",
   "metadata": {},
   "source": [
    "Q72. What is the use of break statement?\n",
    "\n",
    "\n",
    "    break staement is used when we want to terminate the loop containing it.\n"
   ]
  },
  {
   "cell_type": "markdown",
   "id": "c4c6cdb9",
   "metadata": {},
   "source": [
    "Q73. What is the use of pass statement?\n",
    "    \n",
    "    pass statement is a null statement which can used as placeholder for future code. \n",
    "\n"
   ]
  },
  {
   "cell_type": "markdown",
   "id": "b5a90b7e",
   "metadata": {},
   "source": [
    "Q74. What is the use of range() function?\n",
    "\n",
    "\n",
    "    The python range() function returns a sequence of numbers in given range.\n",
    "\n"
   ]
  },
  {
   "cell_type": "markdown",
   "id": "44c7fb4a",
   "metadata": {},
   "source": [
    "Q75. How can you loop over a dictionary?\n",
    "\n",
    "\n",
    "\n",
    "    We can loop over a dictionary by using key value pairs using for loop.\n",
    "    \n",
    "\n"
   ]
  },
  {
   "cell_type": "code",
   "execution_count": 38,
   "id": "4ee95dbb",
   "metadata": {},
   "outputs": [
    {
     "name": "stdout",
     "output_type": "stream",
     "text": [
      "720\n"
     ]
    }
   ],
   "source": [
    "#Q76. Write a Python program to find the factorial of a given number.\n",
    "\n",
    "def fact(num):\n",
    "    if num==1:\n",
    "        print(\"factorial= 1\")\n",
    "    else:\n",
    "        facct=1\n",
    "        for i in range(num,1,-1):\n",
    "            facct=facct*i\n",
    "        return facct\n",
    "print(fact(6))    \n",
    "\n"
   ]
  },
  {
   "cell_type": "code",
   "execution_count": 154,
   "id": "05b82a9c",
   "metadata": {},
   "outputs": [
    {
     "data": {
      "text/plain": [
       "500.0"
      ]
     },
     "execution_count": 154,
     "metadata": {},
     "output_type": "execute_result"
    }
   ],
   "source": [
    "#Q77. Write a Python program to calculate the simple interest. Formula to calculate simple interest is SI = (PRT)/100\n",
    "\n",
    "def si(a,b,c):\n",
    "    simple_interest=(a*b*c)/100\n",
    "    return simple_interest\n",
    "    \n",
    "    \n",
    "si(1000,10,5)\n"
   ]
  },
  {
   "cell_type": "code",
   "execution_count": 171,
   "id": "0b5aac9e",
   "metadata": {},
   "outputs": [
    {
     "data": {
      "text/plain": [
       "1210.0000000000002"
      ]
     },
     "execution_count": 171,
     "metadata": {},
     "output_type": "execute_result"
    }
   ],
   "source": [
    "#Q78. Write a Python program to calculate the compound interest. Formula of compound interest is A = P(1+ R/100)^t.\n",
    "\n",
    "def cii(q,r,t):\n",
    "        compound_interest=q*(1+r/100)**t\n",
    "        return compound_interest\n",
    "cii(1000,10,2)\n",
    "\n"
   ]
  },
  {
   "cell_type": "code",
   "execution_count": 114,
   "id": "05bacea6",
   "metadata": {},
   "outputs": [
    {
     "name": "stdout",
     "output_type": "stream",
     "text": [
      "number is prime 23\n"
     ]
    }
   ],
   "source": [
    "#Q79. Write a Python program to check if a number is prime or not.\n",
    "\n",
    "def prime_number(num):\n",
    "        for i in range(2,num,1):\n",
    "           \n",
    "            if num%i==0:\n",
    "                print(\"number is not prime\",num)\n",
    "                break\n",
    "        else:print(\"number is prime\",num)\n",
    "                \n",
    "    \n",
    "\n",
    "\n",
    "prime_number(23)"
   ]
  },
  {
   "cell_type": "code",
   "execution_count": 147,
   "id": "c780c710",
   "metadata": {},
   "outputs": [
    {
     "name": "stdout",
     "output_type": "stream",
     "text": [
      "no is an armstrong number :  370\n"
     ]
    }
   ],
   "source": [
    "#Q80. Write a Python program to check Armstrong Number.\n",
    "\n",
    "def armstrong(num):\n",
    "    p=len(str(num))\n",
    "    q=num\n",
    "    sum1=0\n",
    "    while num!=0:\n",
    "        r=num%10\n",
    "        sum1=sum1+(r**p)\n",
    "        num=num//10\n",
    "    if sum1==q:\n",
    "        print(\"no is an armstrong number : \",q)\n",
    "    else:\n",
    "        print(\"no is not an armstrong number : \",q)\n",
    "\n",
    "\n",
    "armstrong(370)"
   ]
  },
  {
   "cell_type": "code",
   "execution_count": 150,
   "id": "378df571",
   "metadata": {},
   "outputs": [
    {
     "name": "stdout",
     "output_type": "stream",
     "text": [
      "[90, 23, 3435, 567, 78, 1]\n"
     ]
    }
   ],
   "source": [
    "#Q82. Write a Python program to interchange the first and last element in a list.\n",
    "\n",
    "list22=[1,23,3435,567,78,90]\n",
    "temp=list22[0]\n",
    "list22[0]=list22[-1]\n",
    "list22[-1]=temp\n",
    "print(list22)\n"
   ]
  },
  {
   "cell_type": "code",
   "execution_count": 160,
   "id": "ebe7ed58",
   "metadata": {},
   "outputs": [
    {
     "name": "stdout",
     "output_type": "stream",
     "text": [
      "enter  1st position to swap numbers 1\n",
      "enter  2st position to swap numbers 2\n"
     ]
    },
    {
     "data": {
      "text/plain": [
       "[1, 3435, 23, 567, 78, 90]"
      ]
     },
     "execution_count": 160,
     "metadata": {},
     "output_type": "execute_result"
    }
   ],
   "source": [
    "#Q83. Write a Python program to swap two elements in a list.\n",
    "\n",
    "list22=[1,23,3435,567,78,90]\n",
    "\n",
    "def swap_numbers(list):\n",
    "    position1=int(input(\"enter  1st position to swap numbers \"))\n",
    "    position2=int(input(\"enter  2st position to swap numbers \"))\n",
    "\n",
    "    temp=list[position1]\n",
    "    list[position1]=list[position2]\n",
    "    list[position2]=temp\n",
    "    return(list22)\n",
    "swap_numbers(list22)"
   ]
  },
  {
   "cell_type": "code",
   "execution_count": 165,
   "id": "608c3e2e",
   "metadata": {},
   "outputs": [
    {
     "data": {
      "text/plain": [
       "('largest element from a list', 3435)"
      ]
     },
     "execution_count": 165,
     "metadata": {},
     "output_type": "execute_result"
    }
   ],
   "source": [
    "#Q84. Write a Python program to find N largest element from a list.\n",
    "list22=[1,23,3435,567,78,90]\n",
    "def largest_num(list):\n",
    "    \n",
    "    numb=0\n",
    "    for i in list:\n",
    "        if i>numb:\n",
    "            numb=i\n",
    "    return(\"largest element from a list\",numb)\n",
    "largest_num(list22)"
   ]
  },
  {
   "cell_type": "code",
   "execution_count": 176,
   "id": "e69225ad",
   "metadata": {},
   "outputs": [
    {
     "data": {
      "text/plain": [
       "[4, 14, 29, 47, 67]"
      ]
     },
     "execution_count": 176,
     "metadata": {},
     "output_type": "execute_result"
    }
   ],
   "source": [
    "#Q85. Write a Python program to find cumulative sum of a list.\n",
    "\n",
    "def cumulative_sum(list):\n",
    "    list11=[]\n",
    "    j=0\n",
    "    for i in list:\n",
    "        j=j+i\n",
    "        list11.append(j)\n",
    "    return list11  \n",
    "lisr= [4, 10, 15, 18, 20]\n",
    "cumulative_sum(lisr)\n"
   ]
  },
  {
   "cell_type": "code",
   "execution_count": 195,
   "id": "ca228f31",
   "metadata": {},
   "outputs": [
    {
     "name": "stdout",
     "output_type": "stream",
     "text": [
      "string is palindrome\n"
     ]
    }
   ],
   "source": [
    "#Q86. Write a Python program to check if a string is palindrome or not.\n",
    "\n",
    "def ispalindrome(a):\n",
    "          \n",
    "    if a==a[::-1]:\n",
    "          \n",
    "            print(\"string is palindrome\")\n",
    "    else:\n",
    "            print(\"string is not palindrome\")\n",
    "\n",
    "ispalindrome(\"radar\")"
   ]
  },
  {
   "cell_type": "code",
   "execution_count": 213,
   "id": "2594edc2",
   "metadata": {},
   "outputs": [
    {
     "name": "stdout",
     "output_type": "stream",
     "text": [
      "enter the element which you want to remove  4\n"
     ]
    },
    {
     "data": {
      "text/plain": [
       "'bigNeuroncourse'"
      ]
     },
     "execution_count": 213,
     "metadata": {},
     "output_type": "execute_result"
    }
   ],
   "source": [
    "#Q87. Write a Python program to remove i'th element from a string.\n",
    "\n",
    "def remove_element(x):\n",
    "    new=''\n",
    "    a=int(input(\"enter the element which you want to remove  \"))\n",
    "    new=(x[:a-1]+x[a:])\n",
    "    return new \n",
    "\n",
    "remove_element(\"bigiNeuroncourse\")"
   ]
  },
  {
   "cell_type": "code",
   "execution_count": 219,
   "id": "f3be15a3",
   "metadata": {},
   "outputs": [
    {
     "name": "stdout",
     "output_type": "stream",
     "text": [
      "enter the string  big data ineuron course\n",
      "enter the substring  tyu\n",
      " it is absent\n"
     ]
    }
   ],
   "source": [
    "#Q88. Write a Python program to check if a substring is present in a given string.\n",
    "\n",
    "def issubstring():\n",
    "    s=input(\"enter the string  \")\n",
    "    a=input(\"enter the substring  \")\n",
    "    if a in s:\n",
    "        print(\" it is present in string\")\n",
    "    else:\n",
    "        print(\" it is absent\")\n",
    "\n",
    "issubstring()\n"
   ]
  },
  {
   "cell_type": "code",
   "execution_count": 235,
   "id": "73f2d65f",
   "metadata": {},
   "outputs": [
    {
     "name": "stdout",
     "output_type": "stream",
     "text": [
      "enter the string  big data ineuron bootcamp course\n",
      "enter the length4\n",
      "['big', 'data', 'ineuron', 'bootcamp', 'course']\n"
     ]
    },
    {
     "data": {
      "text/plain": [
       "' ineuron bootcamp course'"
      ]
     },
     "execution_count": 235,
     "metadata": {},
     "output_type": "execute_result"
    }
   ],
   "source": [
    "#Q89. Write a Python program to find words which are greater than given length k.\n",
    "\n",
    "def greater():\n",
    "    neww=''\n",
    "    s=input(\"enter the string  \")\n",
    "    k=int(input(\"enter the length\"))\n",
    "    z=s.split()\n",
    "    print(z)\n",
    "    for i in z:\n",
    "        if len(i)>k:\n",
    "            neww=neww+\" \"+i\n",
    "    return neww       \n",
    "\n",
    "greater()"
   ]
  },
  {
   "cell_type": "code",
   "execution_count": 143,
   "id": "4e785015",
   "metadata": {},
   "outputs": [
    {
     "name": "stdout",
     "output_type": "stream",
     "text": [
      "dict_values(['Shashank', 22, 22, ['Python', 'Java'], ('UP', 'Goa'), 'Random Key', {'color': 'Black', 'nationality': 'Indian'}])\n",
      "[]\n"
     ]
    }
   ],
   "source": [
    "#Q90. Write a Python program to extract unquire dictionary values.\n",
    "dict2 ={'name': 'Shashank', 'age': 22,'agee':22, 'skills': ['Python', 'Java'], 'states_visited': ('UP', 'Goa'), 45: 'Random Key', 'other_details': {'color': 'Black', 'nationality': 'Indian'}}\n",
    "values=[(dict2.values())]\n",
    "#print(values)\n",
    "x=[]\n",
    "y=[]\n",
    "for i in values:\n",
    "    print(i)\n",
    "    x.extend(i)\n",
    "for i in x:\n",
    "    if i not in x:\n",
    "        y.append(i)\n",
    "print(y)\n"
   ]
  },
  {
   "cell_type": "code",
   "execution_count": 136,
   "id": "7d72b8de",
   "metadata": {},
   "outputs": [
    {
     "name": "stdout",
     "output_type": "stream",
     "text": [
      "*\n",
      "**\n",
      "***\n",
      "****\n",
      "*****\n"
     ]
    }
   ],
   "source": [
    "#Q96. Write a python program to print below pattern.\n",
    "#* * \n",
    "#* * * \n",
    "#* * * * \n",
    "#* * * * * \n",
    "def pattern(num):\n",
    "    \n",
    "    for i in range(1,num+1):\n",
    "        print(i*'*')\n",
    "\n",
    "pattern(5)"
   ]
  },
  {
   "cell_type": "code",
   "execution_count": 133,
   "id": "353f45ed",
   "metadata": {},
   "outputs": [
    {
     "name": "stdout",
     "output_type": "stream",
     "text": [
      "     *\n",
      "    **\n",
      "   ***\n",
      "  ****\n",
      " *****\n"
     ]
    }
   ],
   "source": [
    "#Q97. Write a python program to print below pattern.\n",
    "#    *\n",
    "#   **\n",
    "#  ***\n",
    "# ****\n",
    "#*****\n",
    "\n",
    "def pattern1(num):\n",
    "    \n",
    "    for i in range(1,num+1):\n",
    "        print((num-i)*' ',i*'*')\n",
    "\n",
    "pattern1(5)"
   ]
  },
  {
   "cell_type": "code",
   "execution_count": 141,
   "id": "ea4866fb",
   "metadata": {},
   "outputs": [
    {
     "name": "stdout",
     "output_type": "stream",
     "text": [
      "    * \r\n",
      "   * * \r\n",
      "  * * * \r\n",
      " * * * * \r\n",
      "* * * * * \r\n"
     ]
    }
   ],
   "source": [
    "#Q98. Write a python program to print below pattern.\n",
    "\n",
    "#    * \n",
    "#   * * \n",
    "#  * * * \n",
    "# * * * * \n",
    "#* * * * *\n",
    "\n",
    "def pattern2(num):\n",
    "    k = num - 1\n",
    "    for i in range(0, num):\n",
    "        for j in range(0,k):\n",
    "            print(end=\" \")\n",
    "        k = k - 1\n",
    "        for j in range(0, i+1):\n",
    "            print(\"* \", end=\"\")\n",
    "        print(\"\\r\") \n",
    "        \n",
    "a=5\n",
    "pattern2(a)        "
   ]
  },
  {
   "cell_type": "code",
   "execution_count": 122,
   "id": "c379d18b",
   "metadata": {},
   "outputs": [
    {
     "name": "stdout",
     "output_type": "stream",
     "text": [
      "1 \r\n",
      "1 2 \r\n",
      "1 2 3 \r\n",
      "1 2 3 4 \r\n",
      "1 2 3 4 5 \r\n"
     ]
    }
   ],
   "source": [
    "#Q99. Write a python program to print below pattern.\n",
    "#1 \n",
    "#1 2 \n",
    "#1 2 3 \n",
    "#1 2 3 4 \n",
    "#1 2 3 4 5\n",
    "def pattern3(num):\n",
    "    for i in range(1,num+1):\n",
    "        for j in range(1,i+1):\n",
    "            print(j,end=' ')\n",
    "        print(\"\\r\")\n",
    "pattern3(5)        "
   ]
  },
  {
   "cell_type": "code",
   "execution_count": 124,
   "id": "2691e1e7",
   "metadata": {},
   "outputs": [
    {
     "name": "stdout",
     "output_type": "stream",
     "text": [
      "A \r\n",
      "B B \r\n",
      "C C C \r\n",
      "D D D D \r\n",
      "E E E E E \r\n"
     ]
    }
   ],
   "source": [
    "#Q100. Write a python program to print below pattern.\n",
    "\n",
    "#A \n",
    "#B B \n",
    "#C C C \n",
    "#D D D D \n",
    "#E E E E E \n",
    "\n",
    "def pattern4(num):\n",
    "    a=65+num\n",
    "    for i in range(65,a):\n",
    "        for j in range(65,i+1):\n",
    "                   print(chr(i),end=' ')\n",
    "        print('\\r')        \n",
    "\n",
    "pattern4(5)"
   ]
  },
  {
   "cell_type": "code",
   "execution_count": null,
   "id": "72edf039",
   "metadata": {},
   "outputs": [],
   "source": []
  }
 ],
 "metadata": {
  "kernelspec": {
   "display_name": "Python 3 (ipykernel)",
   "language": "python",
   "name": "python3"
  },
  "language_info": {
   "codemirror_mode": {
    "name": "ipython",
    "version": 3
   },
   "file_extension": ".py",
   "mimetype": "text/x-python",
   "name": "python",
   "nbconvert_exporter": "python",
   "pygments_lexer": "ipython3",
   "version": "3.9.12"
  }
 },
 "nbformat": 4,
 "nbformat_minor": 5
}

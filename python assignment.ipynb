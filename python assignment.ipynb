{
 "cells": [
  {
   "cell_type": "markdown",
   "id": "35f17497",
   "metadata": {},
   "source": [
    "Q1. Why do we call Python as a general purpose and high-level programming language?\n",
    "\n",
    "            Python is called as a general purpose lanugage beacuse it can used as varierty of applications like data engineering,data science, machine learning,software devlopment,data analysis and in artifical intelligence.\n",
    "    Python is called high level language because it easy to read and understand and python coding syntax is designed easy  to  read  and understand."
   ]
  },
  {
   "cell_type": "markdown",
   "id": "9a2a0d38",
   "metadata": {},
   "source": [
    "Q2. Why is Python called a dynamically typed language?\n",
    "    \n",
    "    Python is dynamically typed language in which variable can changed during run time without re-declaration of the variable. \n",
    "       "
   ]
  },
  {
   "cell_type": "markdown",
   "id": "6f3aaf00",
   "metadata": {},
   "source": [
    "Q3. List some pros and cons of Python programming language?\n",
    "    \n",
    "    Pros-\n",
    "    -Easy to read,learn and write.\n",
    "    -Vast Libraries Support.\n",
    "    -Supports multiple systems and platforms.\n",
    "    -Dynamic typing programming.\n",
    "    Cons-\n",
    "    -has speed limitations.\n",
    "    -can have runtime errors.\n",
    "    -consumes a lot of memory space.\n",
    "\n",
    "\n",
    "\n",
    "\n",
    "\n",
    "\n",
    "\n",
    "\n"
   ]
  },
  {
   "cell_type": "markdown",
   "id": "f912de1e",
   "metadata": {},
   "source": [
    "Q4. In what all domains can we use Python?\n",
    "   \n",
    "    Python is used in many domains like data science, data engineering, artifical intelligence,machine learning,\n",
    "    software development.\n"
   ]
  },
  {
   "cell_type": "markdown",
   "id": "8da0931d",
   "metadata": {},
   "source": [
    "Q5. What are variable and how can we declare them?\n",
    "    \n",
    "    Variable are name given to memory location and contain data\n",
    "    we can declare by just assigning them value."
   ]
  },
  {
   "cell_type": "markdown",
   "id": "1296c410",
   "metadata": {},
   "source": [
    "Q6. How can we take an input from the user in Python?\n",
    "   \n",
    "    We can take input from user by input() function.\n",
    "    example-\n",
    "    x=input(\"enter your name\")"
   ]
  },
  {
   "cell_type": "markdown",
   "id": "02fcf531",
   "metadata": {},
   "source": [
    "Q7. What is the default datatype of the value that has been taken as an input using input() function?\n",
    "    \n",
    "    String is the default datatype of value taken by input() function.\n"
   ]
  },
  {
   "cell_type": "markdown",
   "id": "1fc1d59f",
   "metadata": {},
   "source": [
    "Q8. What is type casting?\n",
    "    \n",
    "    Type casting is the converting one datatype into another datatype.\n"
   ]
  },
  {
   "cell_type": "markdown",
   "id": "e25affa6",
   "metadata": {},
   "source": [
    "Q9. Can we take more than one input from the user using single input() function? If yes, how? If no, why\n",
    "    \n",
    "    We can take multiples input from using by single input function but we have to add .split() function after input()function.\n",
    "    it will create in inputs in a list.\n",
    "    \n",
    "    example-\n",
    "           a,b,c=input(\"enter values\").split()\n",
    "    \n"
   ]
  },
  {
   "cell_type": "markdown",
   "id": "786aece4",
   "metadata": {},
   "source": [
    "Q10. What are keywords?\n",
    "     \n",
    "     Keywords are predefined and reserved words that have a special meaning in lanugage.\n",
    "     Examples- char,float,for print\n",
    "     "
   ]
  },
  {
   "cell_type": "markdown",
   "id": "ffd24764",
   "metadata": {},
   "source": [
    "Q11. Can we use keywords as a variable? Support your answer with reason.\n",
    "     \n",
    "     We can't use keywords as variable beacuse it will be try to redefining the definition of keywords and assingning new meaning to keywords that complier can't understand.\n"
   ]
  },
  {
   "cell_type": "markdown",
   "id": "78c67aca",
   "metadata": {},
   "source": [
    "Q12. What is indentation? What's the use of indentaion in Python?\n",
    "    \n",
    "    Indentatiion is the  spaces before the code line.\n",
    "     Indentation is used to marking the block of code. \n"
   ]
  },
  {
   "cell_type": "markdown",
   "id": "6f83e61a",
   "metadata": {},
   "source": [
    "Q13. How can we throw some output in Python?\n",
    "     \n",
    "     We can throw some output by using print function and it will display the output.\n",
    "     Example-print(\"output\")\n"
   ]
  },
  {
   "cell_type": "markdown",
   "id": "d331ef3a",
   "metadata": {},
   "source": [
    "Q14. What are operators in Python?\n",
    "     \n",
    "     Operators are symbols that perform operation between operands(variables and values)\n",
    "     example = +(add),=(assign value),or(condition between operands)\n"
   ]
  },
  {
   "cell_type": "markdown",
   "id": "388f4750",
   "metadata": {},
   "source": [
    "Q15. What is difference between / and // operators?\n",
    "    \n",
    "    / is division operator means divsion of two operands and result would be in decimals. example= 28/5=5.6\n",
    "     // is floor division operator means divsion of two operands and result will be absolute numbers. 28//5=5\n"
   ]
  },
  {
   "cell_type": "code",
   "execution_count": 1,
   "id": "6942b65c",
   "metadata": {},
   "outputs": [
    {
     "name": "stdout",
     "output_type": "stream",
     "text": [
      "iNeuroniNeuroniNeuroniNeuron\n"
     ]
    }
   ],
   "source": [
    "#Q16. Write a code that gives following as an output.\n",
    "        #iNeuroniNeuroniNeuroniNeuron\n",
    "print(\"iNeuroniNeuroniNeuroniNeuron\")\n"
   ]
  },
  {
   "cell_type": "code",
   "execution_count": 2,
   "id": "96ed353e",
   "metadata": {},
   "outputs": [
    {
     "name": "stdout",
     "output_type": "stream",
     "text": [
      "enter the number  23\n",
      "Num is odd\n"
     ]
    }
   ],
   "source": [
    "#Q17. Write a code to take a number as an input from the user and check if the number is odd or even.\n",
    "\n",
    "num=int(input(\"enter the number  \"))\n",
    "if num%2==0:\n",
    "        print(\"Num is even !!\")\n",
    "else:\n",
    "    \n",
    "    print(\"Num is odd\")    \n"
   ]
  },
  {
   "cell_type": "markdown",
   "id": "4bab3061",
   "metadata": {},
   "source": [
    "Q18. What are boolean operator?\n",
    "     Boolean operators are used in comparisons that returns bool value true and False\n"
   ]
  },
  {
   "cell_type": "code",
   "execution_count": 25,
   "id": "00d9f70a",
   "metadata": {},
   "outputs": [
    {
     "data": {
      "text/plain": [
       "1"
      ]
     },
     "execution_count": 25,
     "metadata": {},
     "output_type": "execute_result"
    }
   ],
   "source": [
    "#Q19. What will the output of the following?\n",
    "1 or 0\n",
    "\n",
    "0 and 0\n",
    "\n",
    "True and False and True\n",
    "\n",
    "1 or 0 or 0"
   ]
  },
  {
   "cell_type": "markdown",
   "id": "cbc3bff0",
   "metadata": {},
   "source": [
    "Q20. What are conditional statements in Python?\n",
    "    Conditional statements perform different computaions depending specific condition and returns Bool values True and False\n",
    "    and perform job\n",
    "    Example- if ,else,elif"
   ]
  },
  {
   "cell_type": "markdown",
   "id": "2285bcbd",
   "metadata": {},
   "source": [
    "Q21. What is use of 'if', 'elif' and 'else' keywords?\n",
    "     These keywords used control the flow of a program allowing you to excute block of data.\n",
    "     'if' keywords is used if the evalutes condition true block of code will excute and  if false then the else block of code will excute. Multiple conditions  check after'if' condtions check and it evalutes true the block of code will excute\n",
    "    \n",
    "     \n"
   ]
  },
  {
   "cell_type": "code",
   "execution_count": 2,
   "id": "aa7d2eb0",
   "metadata": {},
   "outputs": [
    {
     "name": "stdout",
     "output_type": "stream",
     "text": [
      "Enter your age  33\n",
      " I can vote\n"
     ]
    }
   ],
   "source": [
    "#Q22. Write a code to take the age of person as an input and if age >= 18 display \"I can vote\".\n",
    "#If age is < 18 display \"I can't vote\".\n",
    "\n",
    "age=int(input(\"Enter your age  \"))\n",
    "if age>=18:\n",
    "    print(\" I can vote\")\n",
    "else:\n",
    "    print(\"I can't vote\")\n"
   ]
  },
  {
   "cell_type": "code",
   "execution_count": 3,
   "id": "c1ec1ecc",
   "metadata": {},
   "outputs": [
    {
     "name": "stdout",
     "output_type": "stream",
     "text": [
      "392\n"
     ]
    }
   ],
   "source": [
    "#Q23. Write a code that displays the sum of all the even numbers from the given list.\n",
    "numbers = [12, 75, 150, 180, 145, 525, 50]\n",
    "sum=0\n",
    "for i in (numbers):\n",
    "\n",
    "    if i%2==0:\n",
    "        sum=sum+i \n",
    "    else:\n",
    "        continue\n",
    "print(sum)"
   ]
  },
  {
   "cell_type": "code",
   "execution_count": 9,
   "id": "081b84fc",
   "metadata": {},
   "outputs": [
    {
     "name": "stdout",
     "output_type": "stream",
     "text": [
      "enter the value 11\n",
      "enter the value 23\n",
      "enter the value 2\n",
      "greatest no 23\n"
     ]
    }
   ],
   "source": [
    "#Q24. Write a code to take 3 numbers as an input from the user and display the greatest no as output.\n",
    "\n",
    "a=int(input(\"enter the value \"))\n",
    "b=int(input(\"enter the value \"))\n",
    "c=int(input(\"enter the value \"))\n",
    "\n",
    "if a>b and a>c:\n",
    "    print(\"greatest no\",a)\n",
    "elif b>c and b>a:\n",
    "     print(\"greatest no\",b)\n",
    "else:\n",
    "     print(\"greatest no\",c)\n"
   ]
  },
  {
   "cell_type": "code",
   "execution_count": 27,
   "id": "ac64110c",
   "metadata": {},
   "outputs": [
    {
     "name": "stdout",
     "output_type": "stream",
     "text": [
      "90\n",
      "75\n",
      "150\n",
      "145\n"
     ]
    }
   ],
   "source": [
    "#Q25. Write a program to display only those numbers from a list that satisfy the following conditions\n",
    "\n",
    "#- The number must be divisible by five\n",
    "\n",
    "#- If the number is greater than 150, then skip it and move to the next number\n",
    "\n",
    "#- If the number is greater than 500, then stop the loop\n",
    "\n",
    "numbers = [12, 75, 150, 180, 145, 525, 50]\n",
    "\n",
    "for i in numbers:\n",
    "    if i>500:\n",
    "            break\n",
    "    elif i>150:\n",
    "            continue        \n",
    "    elif i%5==0:\n",
    "            print(i)"
   ]
  },
  {
   "cell_type": "code",
   "execution_count": null,
   "id": "21064342",
   "metadata": {},
   "outputs": [],
   "source": []
  },
  {
   "cell_type": "code",
   "execution_count": null,
   "id": "84f4b432",
   "metadata": {},
   "outputs": [],
   "source": []
  }
 ],
 "metadata": {
  "kernelspec": {
   "display_name": "Python 3 (ipykernel)",
   "language": "python",
   "name": "python3"
  },
  "language_info": {
   "codemirror_mode": {
    "name": "ipython",
    "version": 3
   },
   "file_extension": ".py",
   "mimetype": "text/x-python",
   "name": "python",
   "nbconvert_exporter": "python",
   "pygments_lexer": "ipython3",
   "version": "3.9.12"
  }
 },
 "nbformat": 4,
 "nbformat_minor": 5
}
